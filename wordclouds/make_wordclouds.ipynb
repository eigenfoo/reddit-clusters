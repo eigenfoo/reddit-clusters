{
 "cells": [
  {
   "cell_type": "code",
   "execution_count": null,
   "metadata": {},
   "outputs": [],
   "source": [
    "import numpy as np\n",
    "import pandas as pd\n",
    "from wordcloud import WordCloud\n",
    "from PIL import Image\n",
    "import matplotlib.pyplot as plt"
   ]
  },
  {
   "cell_type": "code",
   "execution_count": null,
   "metadata": {},
   "outputs": [],
   "source": [
    "# Which subreddit to generate wordclouds for\n",
    "subreddit_name = 'The_Donald'"
   ]
  },
  {
   "cell_type": "code",
   "execution_count": null,
   "metadata": {},
   "outputs": [],
   "source": [
    "def black_color_func(word, font_size, position, orientation, random_state=None, **kwargs):\n",
    "    # Dummy function; always return black RGB value\n",
    "    return \"rgb(0, 0, 0)\"\n",
    "\n",
    "# Instantiate wordcloud generator\n",
    "disc_mask = np.array(Image.open(\"blackdisc.jpeg\"))\n",
    "wc = WordCloud(font_path='OCR-A-Std-Regular.ttf',\n",
    "               prefer_horizontal=1.0,\n",
    "               background_color=\"white\",\n",
    "               mask=disc_mask,\n",
    "               color_func=black_color_func)"
   ]
  },
  {
   "cell_type": "code",
   "execution_count": null,
   "metadata": {},
   "outputs": [],
   "source": [
    "# Remember, V = WH\n",
    "# W = document - latent\n",
    "# H = latent - term\n",
    "\n",
    "H = np.load('../clustering/results/H_{}.npy'.format(subreddit_name))\n",
    "W = np.load('../clustering/results/W_{}.npy'.format(subreddit_name))\n",
    "feature_names = np.load('../clustering/results/feature_names_{}.npy'.format(subreddit_name))"
   ]
  },
  {
   "cell_type": "code",
   "execution_count": null,
   "metadata": {},
   "outputs": [],
   "source": [
    "classifs = W.argmax(axis=1)\n",
    "tot_comments = W.shape[0]\n",
    "\n",
    "mat = np.zeros([H.shape[0]])\n",
    "for i in range(H.shape[0]):\n",
    "    mat[i] = sum(classifs == i) / tot_comments\n",
    "\n",
    "df = pd.DataFrame(data=np.atleast_2d(mat),\n",
    "                  index=[subreddit_name],\n",
    "                  columns=['Cluster {}'.format(i) for i in range(H.shape[0])])"
   ]
  },
  {
   "cell_type": "code",
   "execution_count": null,
   "metadata": {},
   "outputs": [],
   "source": [
    "for topic_idx, topic in enumerate(H):\n",
    "    print(\"Cluster {}:\".format(topic_idx))\n",
    "    \n",
    "    d = {}\n",
    "    for word_idx in topic.argsort()[:-15-1:-1]:\n",
    "        d[feature_names[word_idx]] = topic[word_idx]\n",
    "    \n",
    "    wc.generate_from_frequencies(d)\n",
    "    plt.subplots(figsize=[12, 12])\n",
    "    plt.imshow(wc, interpolation='bilinear')\n",
    "    plt.axis('off')\n",
    "    plt.savefig('images/{}/{}_{:0.2f}%.png'.format(subreddit_name,\n",
    "                                                   str(topic_idx).zfill(2),\n",
    "                                                   100*df.loc[subreddit_name, 'Cluster {}'.format(topic_idx)]))\n",
    "    plt.show()"
   ]
  },
  {
   "cell_type": "code",
   "execution_count": null,
   "metadata": {},
   "outputs": [],
   "source": []
  }
 ],
 "metadata": {
  "kernelspec": {
   "display_name": "Python 3",
   "language": "python",
   "name": "python3"
  },
  "language_info": {
   "codemirror_mode": {
    "name": "ipython",
    "version": 3
   },
   "file_extension": ".py",
   "mimetype": "text/x-python",
   "name": "python",
   "nbconvert_exporter": "python",
   "pygments_lexer": "ipython3",
   "version": "3.6.2"
  }
 },
 "nbformat": 4,
 "nbformat_minor": 2
}
